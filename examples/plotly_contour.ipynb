{
 "cells": [
  {
   "cell_type": "code",
   "execution_count": 1,
   "metadata": {},
   "outputs": [],
   "source": [
    "import plotly.plotly as py\n",
    "import plotly.figure_factory as ff\n",
    "import plotly.graph_objs as go\n",
    "import pandas as pd\n",
    "import numpy as np\n",
    "\n",
    "from astropy.table import Table\n",
    "from astropy.io import fits \n",
    "\n",
    "import ipywidgets as widgets\n",
    "from ipywidgets import interact\n",
    "\n",
    "from ipywidgets import IntSlider, Dropdown, HBox, VBox, Label, Text, FloatText, Button, IntText"
   ]
  },
  {
   "cell_type": "markdown",
   "metadata": {},
   "source": [
    "# Load Data"
   ]
  },
  {
   "cell_type": "code",
   "execution_count": 3,
   "metadata": {},
   "outputs": [],
   "source": [
    "data_file = \"/Users/rgeda/project/data/manga-7495-12704-LOGCUBE.fits.gz\""
   ]
  },
  {
   "cell_type": "markdown",
   "metadata": {},
   "source": [
    "# Viewer Class"
   ]
  },
  {
   "cell_type": "code",
   "execution_count": 10,
   "metadata": {},
   "outputs": [],
   "source": [
    "\n",
    "class PlotlyViewerND:\n",
    "    def __init__(self, data_file, i=0):\n",
    "        self.data_file = data_file\n",
    "        \n",
    "        self.data = fits.open(data_file)\n",
    "        \n",
    "        self.sci = self.data[1].data\n",
    "        self.ivar = self.data[2].data\n",
    "        \n",
    "        self.sci_im = go.Data(self.sci)\n",
    "        self.ivar_im = go.Data(self.ivar)\n",
    "        \n",
    "#         self._gofig = go.Figure(data=self._data, layout=layout)\n",
    "        self._current_slice = i\n",
    "        self.draw()\n",
    "        self.fig = go.FigureWidget(self._gofig)\n",
    "        self.fig.add_contour(z=self.fig.data[0].z)\n",
    "        \n",
    "    def change_index(self, i):\n",
    "        self._current_slice = i\n",
    "        #self.fig.data[0].z = self.sci[self._current_slice]\n",
    "        self.fig.data[1].z = self.sci[self._current_slice]\n",
    "        \n",
    "        \n",
    "    def draw(self):\n",
    "        \n",
    "\n",
    "        self._trace1 = {\n",
    "            \"name\": \"data\",\n",
    "            \"x\": np.arange(74),\n",
    "            \"y\": np.arange(74),\n",
    "            \"z\": self.sci[self._current_slice],\n",
    "            \"colorscale\": 'Greys',\n",
    "            \"type\": \"heatmap\"\n",
    "        }\n",
    "\n",
    "        data2show = [self._trace1]\n",
    "        self._data = go.Data(data2show)\n",
    "\n",
    "       \n",
    "        layout = {\n",
    "            \"legend\": {\n",
    "                \"x\": 1,\n",
    "                \"y\": 0.5,\n",
    "                \"bgcolor\": \"rgb(255,255,255)\"\n",
    "            },\n",
    "            \"margin\": {\"r\": 10},\n",
    "            \"paper_bgcolor\": \"rgb(255,255,255)\",\n",
    "            \"plot_bgcolor\": \"rgb(229,229,229)\",\n",
    "            \"width\": 500,\n",
    "            \"height\": 500,\n",
    "            \"xaxis\": {\n",
    "                \"gridcolor\": \"rgb(255,255,255)\",\n",
    "                \"showgrid\": True,\n",
    "                \"showline\": False,\n",
    "                \"showticklabels\": True,\n",
    "                \"tickcolor\": \"rgb(127,127,127)\",\n",
    "                \"ticks\": \"outside\",\n",
    "                \"title\": \"x\",\n",
    "                \"type\": \"linear\",\n",
    "                \"zeroline\": False\n",
    "            },\n",
    "            \"yaxis\": {\n",
    "                \"gridcolor\": \"rgb(255,255,255)\",\n",
    "                \"showgrid\": True,\n",
    "                \"showline\": False,\n",
    "                \"showticklabels\": True,\n",
    "                \"tickcolor\": \"rgb(127,127,127)\",\n",
    "                \"ticks\": \"outside\",\n",
    "                \"title\": \"y\",\n",
    "                \"type\": \"linear\",\n",
    "                \"zeroline\": False\n",
    "            }\n",
    "        }\n",
    "\n",
    "        self._gofig = go.Figure(data=self._data, layout=layout)\n",
    "        \n",
    "    def show(self):\n",
    "        return self.fig\n",
    "        \n",
    "        "
   ]
  },
  {
   "cell_type": "markdown",
   "metadata": {},
   "source": [
    "# Init viewer "
   ]
  },
  {
   "cell_type": "code",
   "execution_count": 11,
   "metadata": {},
   "outputs": [
    {
     "name": "stderr",
     "output_type": "stream",
     "text": [
      "/Users/rgeda/miniconda3/envs/delete_me/lib/python3.7/site-packages/plotly/graph_objs/_deprecations.py:39: DeprecationWarning:\n",
      "\n",
      "plotly.graph_objs.Data is deprecated.\n",
      "Please replace it with a list or tuple of instances of the following types\n",
      "  - plotly.graph_objs.Scatter\n",
      "  - plotly.graph_objs.Bar\n",
      "  - plotly.graph_objs.Area\n",
      "  - plotly.graph_objs.Histogram\n",
      "  - etc.\n",
      "\n",
      "\n"
     ]
    }
   ],
   "source": [
    "pv = PlotlyViewerND(data_file)"
   ]
  },
  {
   "cell_type": "code",
   "execution_count": 12,
   "metadata": {},
   "outputs": [
    {
     "data": {
      "application/vnd.jupyter.widget-view+json": {
       "model_id": "f05aab79ed1d4d59b5ce44cb3bd2c5e8",
       "version_major": 2,
       "version_minor": 0
      },
      "text/plain": [
       "FigureWidget({\n",
       "    'data': [{'colorscale': 'Greys',\n",
       "              'name': 'data',\n",
       "              'type': 'heatm…"
      ]
     },
     "metadata": {},
     "output_type": "display_data"
    }
   ],
   "source": [
    "pv.show()"
   ]
  },
  {
   "cell_type": "code",
   "execution_count": 16,
   "metadata": {},
   "outputs": [
    {
     "data": {
      "application/vnd.jupyter.widget-view+json": {
       "model_id": "4fd10821004c4505910476f1cd396fe9",
       "version_major": 2,
       "version_minor": 0
      },
      "text/plain": [
       "interactive(children=(IntSlider(value=10, description='i', max=4562), Output()), _dom_classes=('widget-interac…"
      ]
     },
     "metadata": {},
     "output_type": "display_data"
    }
   ],
   "source": [
    "interact(pv.change_index, i=widgets.IntSlider(min=0,max=pv.sci.shape[0]-1,step=1,value=10));"
   ]
  },
  {
   "cell_type": "code",
   "execution_count": 17,
   "metadata": {},
   "outputs": [
    {
     "data": {
      "text/plain": [
       "'/Users/rgeda/project/local/glue_mosviz/hangar_v_1'"
      ]
     },
     "execution_count": 17,
     "metadata": {},
     "output_type": "execute_result"
    }
   ],
   "source": [
    "pwd"
   ]
  },
  {
   "cell_type": "code",
   "execution_count": null,
   "metadata": {},
   "outputs": [],
   "source": []
  }
 ],
 "metadata": {
  "kernelspec": {
   "display_name": "Python 3",
   "language": "python",
   "name": "python3"
  },
  "language_info": {
   "codemirror_mode": {
    "name": "ipython",
    "version": 3
   },
   "file_extension": ".py",
   "mimetype": "text/x-python",
   "name": "python",
   "nbconvert_exporter": "python",
   "pygments_lexer": "ipython3",
   "version": "3.7.3"
  }
 },
 "nbformat": 4,
 "nbformat_minor": 2
}
